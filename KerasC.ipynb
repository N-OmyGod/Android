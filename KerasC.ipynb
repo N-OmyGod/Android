{
  "nbformat": 4,
  "nbformat_minor": 0,
  "metadata": {
    "colab": {
      "provenance": [],
      "include_colab_link": true
    },
    "kernelspec": {
      "name": "python3",
      "display_name": "Python 3"
    },
    "language_info": {
      "name": "python"
    },
    "accelerator": "GPU",
    "gpuClass": "standard"
  },
  "cells": [
    {
      "cell_type": "markdown",
      "metadata": {
        "id": "view-in-github",
        "colab_type": "text"
      },
      "source": [
        "<a href=\"https://colab.research.google.com/github/N-OmyGod/Android/blob/dev/KerasC.ipynb\" target=\"_parent\"><img src=\"https://colab.research.google.com/assets/colab-badge.svg\" alt=\"Open In Colab\"/></a>"
      ]
    },
    {
      "cell_type": "code",
      "execution_count": null,
      "metadata": {
        "id": "PVukv_jwlA5d"
      },
      "outputs": [],
      "source": [
        "import pandas as pd\n",
        "import numpy as np\n",
        "\n",
        "from keras.utils.np_utils import to_categorical\n",
        "from keras.models import Sequential\n",
        "from keras.layers import Dense, Dropout, Flatten, Conv2D, MaxPooling2D\n",
        "from keras.callbacks import ModelCheckpoint, ReduceLROnPlateau\n",
        "from keras.preprocessing.image import ImageDataGenerator\n",
        "from PIL import Image\n",
        "from numpy import asarray\n",
        "\n",
        "from tensorflow.keras.preprocessing import image\n",
        "import matplotlib.pyplot as plt\n",
        "%matplotlib inline"
      ]
    },
    {
      "cell_type": "markdown",
      "source": [
        "Загружаем тренировочный и тестовый наборы данных\n"
      ],
      "metadata": {
        "id": "qcARMj33mTDL"
      }
    },
    {
      "cell_type": "code",
      "source": [
        "img5 = image.load_img('Untitled.png', grayscale=True, target_size=(28, 28))\n",
        "img0 = image.load_img('0.png', grayscale=True, target_size=(28, 28))\n",
        "img1 = image.load_img('1.png', grayscale=True, target_size=(28, 28))\n",
        "img2 = image.load_img('2.png', grayscale=True, target_size=(28, 28))\n",
        "img3 = image.load_img('3.png', grayscale=True, target_size=(28, 28))\n",
        "img4 = image.load_img('4.png', grayscale=True, target_size=(28, 28))\n",
        "img9 = image.load_img('9.png', grayscale=True, target_size=(28, 28))\n",
        "img6 = image.load_img('6.png', grayscale=True, target_size=(28, 28))\n",
        "img7 = image.load_img('7.png', grayscale=True, target_size=(28, 28))\n",
        "img8 = image.load_img('8.png', grayscale=True, target_size=(28, 28))\n",
        "plt.imshow(img0, cmap='gray')\n",
        "\n",
        "train = pd.read_csv('train.csv')\n",
        "test = pd.read_csv('test.csv')\n",
        "i = asarray(img0)\n",
        "i1 = asarray(img1)\n",
        "i2 = asarray(img2) \n",
        "i3 = asarray(img3) \n",
        "i4 = asarray(img4)\n",
        "i5 = asarray(img5)\n",
        "i6 = asarray(img6)\n",
        "i7 = asarray(img7)\n",
        "i8 = asarray(img8) \n",
        "i9 = asarray(img9)\n",
        "\n",
        "print (i)"
      ],
      "metadata": {
        "id": "8eUK45LQliEy",
        "colab": {
          "base_uri": "https://localhost:8080/",
          "height": 1000
        },
        "outputId": "f1bf51af-073f-4173-d1db-c828d335495c"
      },
      "execution_count": null,
      "outputs": [
        {
          "output_type": "stream",
          "name": "stderr",
          "text": [
            "/usr/local/lib/python3.7/dist-packages/keras/utils/image_utils.py:382: UserWarning: grayscale is deprecated. Please use color_mode = \"grayscale\"\n",
            "  warnings.warn('grayscale is deprecated. Please use '\n"
          ]
        },
        {
          "output_type": "stream",
          "name": "stdout",
          "text": [
            "[[  0   0   0   0   0   0   0   0   0   0   0   0   0   0   0   0   0   0\n",
            "    0   0   0   0   0   0   0   0   0   0]\n",
            " [  0   0   0   0   0   0   0   0   0   0   0   0   0   0   0   0   0   0\n",
            "    0   0   0   0   0   0   0   0   0   0]\n",
            " [  0   0   0   0   0   0   0   0   0   0   0   0   0   0   0   0   0   0\n",
            "    0   0   0   0   0   0   0   0   0   0]\n",
            " [  0   0   0   0   0   0   0   0   0   0   0   0   0   0   0   0   0   0\n",
            "    0   0   0   0   0   0   0   0   0   0]\n",
            " [  0   0   0   0   0   0   0   0   0   0   0   0   0   0   0   0   0   0\n",
            "    0   0   0   0   0   0   0   0   0   0]\n",
            " [  0   0   0   0   0   0   0   0   0   0 255 255 255 255 255 255 255 255\n",
            "    0   0   0   0   0   0   0   0   0   0]\n",
            " [  0   0   0   0   0   0   0   0   0 255 255 255 255   0   0   0   0 255\n",
            "  255   0   0   0   0   0   0   0   0   0]\n",
            " [  0   0   0   0   0   0   0   0   0 255   0   0   0   0   0   0   0   0\n",
            "  255 255   0   0   0   0   0   0   0   0]\n",
            " [  0   0   0   0   0   0   0   0 255 255   0   0   0   0   0   0   0   0\n",
            "    0 255   0   0   0   0   0   0   0   0]\n",
            " [  0   0   0   0   0   0   0 255 255   0   0   0   0   0   0   0   0   0\n",
            "    0 255 255   0   0   0   0   0   0   0]\n",
            " [  0   0   0   0   0   0   0 255   0   0   0   0   0   0   0   0   0   0\n",
            "    0   0 255   0   0   0   0   0   0   0]\n",
            " [  0   0   0   0   0   0   0 255   0   0   0   0   0   0   0   0   0   0\n",
            "    0   0 255   0   0   0   0   0   0   0]\n",
            " [  0   0   0   0   0   0 255 255   0   0   0   0   0   0   0   0   0   0\n",
            "    0   0 255   0   0   0   0   0   0   0]\n",
            " [  0   0   0   0   0   0 255   0   0   0   0   0   0   0   0   0   0   0\n",
            "    0   0 255   0   0   0   0   0   0   0]\n",
            " [  0   0   0   0   0   0 255 255   0   0   0   0   0   0   0   0   0   0\n",
            "    0 255 255   0   0   0   0   0   0   0]\n",
            " [  0   0   0   0   0   0   0 255   0   0   0   0   0   0   0   0   0   0\n",
            "    0 255   0   0   0   0   0   0   0   0]\n",
            " [  0   0   0   0   0   0   0 255   0   0   0   0   0   0   0   0   0   0\n",
            "    0 255   0   0   0   0   0   0   0   0]\n",
            " [  0   0   0   0   0   0   0 255 255   0   0   0   0   0   0   0   0   0\n",
            "    0 255   0   0   0   0   0   0   0   0]\n",
            " [  0   0   0   0   0   0   0   0 255 255   0   0   0   0   0   0   0   0\n",
            "  255   0   0   0   0   0   0   0   0   0]\n",
            " [  0   0   0   0   0   0   0   0   0 255 255 255   0   0   0   0   0 255\n",
            "  255   0   0   0   0   0   0   0   0   0]\n",
            " [  0   0   0   0   0   0   0   0   0   0   0 255 255 255   0   0 255 255\n",
            "    0   0   0   0   0   0   0   0   0   0]\n",
            " [  0   0   0   0   0   0   0   0   0   0   0   0   0 255 255 255 255   0\n",
            "    0   0   0   0   0   0   0   0   0   0]\n",
            " [  0   0   0   0   0   0   0   0   0   0   0   0   0   0   0   0   0   0\n",
            "    0   0   0   0   0   0   0   0   0   0]\n",
            " [  0   0   0   0   0   0   0   0   0   0   0   0   0   0   0   0   0   0\n",
            "    0   0   0   0   0   0   0   0   0   0]\n",
            " [  0   0   0   0   0   0   0   0   0   0   0   0   0   0   0   0   0   0\n",
            "    0   0   0   0   0   0   0   0   0   0]\n",
            " [  0   0   0   0   0   0   0   0   0   0   0   0   0   0   0   0   0   0\n",
            "    0   0   0   0   0   0   0   0   0   0]\n",
            " [  0   0   0   0   0   0   0   0   0   0   0   0   0   0   0   0   0   0\n",
            "    0   0   0   0   0   0   0   0   0   0]\n",
            " [  0   0   0   0   0   0   0   0   0   0   0   0   0   0   0   0   0   0\n",
            "    0   0   0   0   0   0   0   0   0   0]]\n"
          ]
        },
        {
          "output_type": "display_data",
          "data": {
            "text/plain": [
              "<Figure size 432x288 with 1 Axes>"
            ],
            "image/png": "[encoded data removed]"
          },
          "metadata": {
            "needs_background": "light"
          }
        }
      ]
    },
    {
      "cell_type": "code",
      "source": [
        "plt.imshow(img1, cmap='gray')"
      ],
      "metadata": {
        "colab": {
          "base_uri": "https://localhost:8080/",
          "height": 283
        },
        "id": "T1YH9eisAXuM",
        "outputId": "c1c03aec-bdf7-4f6d-d529-b6804ef651f2"
      },
      "execution_count": null,
      "outputs": [
        {
          "output_type": "execute_result",
          "data": {
            "text/plain": [
              "<matplotlib.image.AxesImage at 0x7f52740b3650>"
            ]
          },
          "metadata": {},
          "execution_count": 193
        },
        {
          "output_type": "display_data",
          "data": {
            "text/plain": [
              "<Figure size 432x288 with 1 Axes>"
            ],
            "image/png": "[encoded data removed]"
          },
          "metadata": {
            "needs_background": "light"
          }
        }
      ]
    },
    {
      "cell_type": "code",
      "source": [
        "plt.imshow(img2, cmap='gray')"
      ],
      "metadata": {
        "colab": {
          "base_uri": "https://localhost:8080/",
          "height": 283
        },
        "id": "Px-CCYLmAXfZ",
        "outputId": "c5da3505-75dc-429f-c3cf-630deff26c97"
      },
      "execution_count": null,
      "outputs": [
        {
          "output_type": "execute_result",
          "data": {
            "text/plain": [
              "<matplotlib.image.AxesImage at 0x7f52740cf950>"
            ]
          },
          "metadata": {},
          "execution_count": 98
        },
        {
          "output_type": "display_data",
          "data": {
            "text/plain": [
              "<Figure size 432x288 with 1 Axes>"
            ],
            "image/png": "[encoded data removed]"
          },
          "metadata": {
            "needs_background": "light"
          }
        }
      ]
    },
    {
      "cell_type": "code",
      "source": [
        "plt.imshow(img3, cmap='gray')"
      ],
      "metadata": {
        "colab": {
          "base_uri": "https://localhost:8080/",
          "height": 283
        },
        "id": "XXQb7l3yAXZM",
        "outputId": "8158d37d-28cd-46bf-8307-d3cd8f0e4c19"
      },
      "execution_count": null,
      "outputs": [
        {
          "output_type": "execute_result",
          "data": {
            "text/plain": [
              "<matplotlib.image.AxesImage at 0x7f525c5e6290>"
            ]
          },
          "metadata": {},
          "execution_count": 99
        },
        {
          "output_type": "display_data",
          "data": {
            "text/plain": [
              "<Figure size 432x288 with 1 Axes>"
            ],
            "image/png": "[encoded data removed]"
          },
          "metadata": {
            "needs_background": "light"
          }
        }
      ]
    },
    {
      "cell_type": "code",
      "source": [
        "plt.imshow(img4, cmap='gray')"
      ],
      "metadata": {
        "colab": {
          "base_uri": "https://localhost:8080/",
          "height": 283
        },
        "id": "Z1W57vqaAW0M",
        "outputId": "c04346af-a69e-460f-cb23-5fa7bd72911d"
      },
      "execution_count": null,
      "outputs": [
        {
          "output_type": "execute_result",
          "data": {
            "text/plain": [
              "<matplotlib.image.AxesImage at 0x7f525c589050>"
            ]
          },
          "metadata": {},
          "execution_count": 100
        },
        {
          "output_type": "display_data",
          "data": {
            "text/plain": [
              "<Figure size 432x288 with 1 Axes>"
            ],
            "image/png": "[encoded data removed]"
          },
          "metadata": {
            "needs_background": "light"
          }
        }
      ]
    },
    {
      "cell_type": "code",
      "source": [
        "plt.imshow(img5, cmap='gray')"
      ],
      "metadata": {
        "colab": {
          "base_uri": "https://localhost:8080/",
          "height": 283
        },
        "id": "NVRf_CkoAWmu",
        "outputId": "44738bf4-7e01-4431-daa7-df2a7238d6bd"
      },
      "execution_count": null,
      "outputs": [
        {
          "output_type": "execute_result",
          "data": {
            "text/plain": [
              "<matplotlib.image.AxesImage at 0x7f525c76c9d0>"
            ]
          },
          "metadata": {},
          "execution_count": 101
        },
        {
          "output_type": "display_data",
          "data": {
            "text/plain": [
              "<Figure size 432x288 with 1 Axes>"
            ],
            "image/png": "[encoded data removed]"
          },
          "metadata": {
            "needs_background": "light"
          }
        }
      ]
    },
    {
      "cell_type": "code",
      "source": [
        "plt.imshow(img6, cmap='gray')"
      ],
      "metadata": {
        "colab": {
          "base_uri": "https://localhost:8080/",
          "height": 283
        },
        "id": "3W3fjIxwAWc6",
        "outputId": "bae774bf-f9e4-4b1f-8a83-b3855ad1e219"
      },
      "execution_count": null,
      "outputs": [
        {
          "output_type": "execute_result",
          "data": {
            "text/plain": [
              "<matplotlib.image.AxesImage at 0x7f525c6ee410>"
            ]
          },
          "metadata": {},
          "execution_count": 102
        },
        {
          "output_type": "display_data",
          "data": {
            "text/plain": [
              "<Figure size 432x288 with 1 Axes>"
            ],
            "image/png": "[encoded data removed]"
          },
          "metadata": {
            "needs_background": "light"
          }
        }
      ]
    },
    {
      "cell_type": "code",
      "source": [
        "plt.imshow(img7, cmap='gray')"
      ],
      "metadata": {
        "colab": {
          "base_uri": "https://localhost:8080/",
          "height": 283
        },
        "id": "fOisyQqFAWZh",
        "outputId": "5bc9ffc7-19fc-4e38-9ff6-271c4c764976"
      },
      "execution_count": null,
      "outputs": [
        {
          "output_type": "execute_result",
          "data": {
            "text/plain": [
              "<matplotlib.image.AxesImage at 0x7f525c2f0ad0>"
            ]
          },
          "metadata": {},
          "execution_count": 194
        },
        {
          "output_type": "display_data",
          "data": {
            "text/plain": [
              "<Figure size 432x288 with 1 Axes>"
            ],
            "image/png": "[encoded data removed]"
          },
          "metadata": {
            "needs_background": "light"
          }
        }
      ]
    },
    {
      "cell_type": "code",
      "source": [
        "plt.imshow(img8, cmap='gray')"
      ],
      "metadata": {
        "colab": {
          "base_uri": "https://localhost:8080/",
          "height": 283
        },
        "id": "Hxna3vNnAWWN",
        "outputId": "5bd658c4-bb79-4a1b-ef7f-8ef4d9a64068"
      },
      "execution_count": null,
      "outputs": [
        {
          "output_type": "execute_result",
          "data": {
            "text/plain": [
              "<matplotlib.image.AxesImage at 0x7f52d9247310>"
            ]
          },
          "metadata": {},
          "execution_count": 219
        },
        {
          "output_type": "display_data",
          "data": {
            "text/plain": [
              "<Figure size 432x288 with 1 Axes>"
            ],
            "image/png": "[encoded data removed]"
          },
          "metadata": {
            "needs_background": "light"
          }
        }
      ]
    },
    {
      "cell_type": "code",
      "source": [
        "plt.imshow(img9, cmap='gray')"
      ],
      "metadata": {
        "colab": {
          "base_uri": "https://localhost:8080/",
          "height": 283
        },
        "id": "XFZi_QVCAWOZ",
        "outputId": "cbca67b6-ae67-4f5a-9dcf-1d17be446313"
      },
      "execution_count": null,
      "outputs": [
        {
          "output_type": "execute_result",
          "data": {
            "text/plain": [
              "<matplotlib.image.AxesImage at 0x7f525c7e4cd0>"
            ]
          },
          "metadata": {},
          "execution_count": 131
        },
        {
          "output_type": "display_data",
          "data": {
            "text/plain": [
              "<Figure size 432x288 with 1 Axes>"
            ],
            "image/png": "[encoded data removed]"
          },
          "metadata": {
            "needs_background": "light"
          }
        }
      ]
    },
    {
      "cell_type": "markdown",
      "source": [
        "Делим тренировочный набор на правильный ответ и набор пикселей\n"
      ],
      "metadata": {
        "id": "S0mg7GB5mcji"
      }
    },
    {
      "cell_type": "code",
      "source": [
        "y = train['label']\n",
        "x = train.drop(labels=['label'], axis=1)"
      ],
      "metadata": {
        "id": "TMCsDPhllloG"
      },
      "execution_count": null,
      "outputs": []
    },
    {
      "cell_type": "markdown",
      "source": [
        "Нормализуем пиксели"
      ],
      "metadata": {
        "id": "o2hsorH_mxwd"
      }
    },
    {
      "cell_type": "code",
      "source": [
        "x /= 255.\n",
        "test /= 255.\n",
        "i = i / 255.\n",
        "i1 = i1 / 255.\n",
        "i2 = i2 / 255.\n",
        "i3 = i3 / 255.\n",
        "i4 = i4 / 255.\n",
        "i5 = i5 / 255.\n",
        "i6 = i6 / 255.\n",
        "i7 = i7 / 255.\n",
        "i8 = i8 / 255.\n",
        "i9 = i9 / 255.\n",
        "print (i)"
      ],
      "metadata": {
        "id": "S02wFZ9Cloj4",
        "colab": {
          "base_uri": "https://localhost:8080/"
        },
        "outputId": "520d09a8-045b-49fd-a08a-7366faae89d6"
      },
      "execution_count": null,
      "outputs": [
        {
          "output_type": "stream",
          "name": "stdout",
          "text": [
            "[[0. 0. 0. 0. 0. 0. 0. 0. 0. 0. 0. 0. 0. 0. 0. 0. 0. 0. 0. 0. 0. 0. 0. 0.\n",
            "  0. 0. 0. 0.]\n",
            " [0. 0. 0. 0. 0. 0. 0. 0. 0. 0. 0. 0. 0. 0. 0. 0. 0. 0. 0. 0. 0. 0. 0. 0.\n",
            "  0. 0. 0. 0.]\n",
            " [0. 0. 0. 0. 0. 0. 0. 0. 0. 0. 0. 0. 0. 0. 0. 0. 0. 0. 0. 0. 0. 0. 0. 0.\n",
            "  0. 0. 0. 0.]\n",
            " [0. 0. 0. 0. 0. 0. 0. 0. 0. 0. 0. 0. 0. 0. 0. 0. 0. 0. 0. 0. 0. 0. 0. 0.\n",
            "  0. 0. 0. 0.]\n",
            " [0. 0. 0. 0. 0. 0. 0. 0. 0. 0. 0. 0. 0. 0. 0. 0. 0. 0. 0. 0. 0. 0. 0. 0.\n",
            "  0. 0. 0. 0.]\n",
            " [0. 0. 0. 0. 0. 0. 0. 0. 0. 0. 1. 1. 1. 1. 1. 1. 1. 1. 0. 0. 0. 0. 0. 0.\n",
            "  0. 0. 0. 0.]\n",
            " [0. 0. 0. 0. 0. 0. 0. 0. 0. 1. 1. 1. 1. 0. 0. 0. 0. 1. 1. 0. 0. 0. 0. 0.\n",
            "  0. 0. 0. 0.]\n",
            " [0. 0. 0. 0. 0. 0. 0. 0. 0. 1. 0. 0. 0. 0. 0. 0. 0. 0. 1. 1. 0. 0. 0. 0.\n",
            "  0. 0. 0. 0.]\n",
            " [0. 0. 0. 0. 0. 0. 0. 0. 1. 1. 0. 0. 0. 0. 0. 0. 0. 0. 0. 1. 0. 0. 0. 0.\n",
            "  0. 0. 0. 0.]\n",
            " [0. 0. 0. 0. 0. 0. 0. 1. 1. 0. 0. 0. 0. 0. 0. 0. 0. 0. 0. 1. 1. 0. 0. 0.\n",
            "  0. 0. 0. 0.]\n",
            " [0. 0. 0. 0. 0. 0. 0. 1. 0. 0. 0. 0. 0. 0. 0. 0. 0. 0. 0. 0. 1. 0. 0. 0.\n",
            "  0. 0. 0. 0.]\n",
            " [0. 0. 0. 0. 0. 0. 0. 1. 0. 0. 0. 0. 0. 0. 0. 0. 0. 0. 0. 0. 1. 0. 0. 0.\n",
            "  0. 0. 0. 0.]\n",
            " [0. 0. 0. 0. 0. 0. 1. 1. 0. 0. 0. 0. 0. 0. 0. 0. 0. 0. 0. 0. 1. 0. 0. 0.\n",
            "  0. 0. 0. 0.]\n",
            " [0. 0. 0. 0. 0. 0. 1. 0. 0. 0. 0. 0. 0. 0. 0. 0. 0. 0. 0. 0. 1. 0. 0. 0.\n",
            "  0. 0. 0. 0.]\n",
            " [0. 0. 0. 0. 0. 0. 1. 1. 0. 0. 0. 0. 0. 0. 0. 0. 0. 0. 0. 1. 1. 0. 0. 0.\n",
            "  0. 0. 0. 0.]\n",
            " [0. 0. 0. 0. 0. 0. 0. 1. 0. 0. 0. 0. 0. 0. 0. 0. 0. 0. 0. 1. 0. 0. 0. 0.\n",
            "  0. 0. 0. 0.]\n",
            " [0. 0. 0. 0. 0. 0. 0. 1. 0. 0. 0. 0. 0. 0. 0. 0. 0. 0. 0. 1. 0. 0. 0. 0.\n",
            "  0. 0. 0. 0.]\n",
            " [0. 0. 0. 0. 0. 0. 0. 1. 1. 0. 0. 0. 0. 0. 0. 0. 0. 0. 0. 1. 0. 0. 0. 0.\n",
            "  0. 0. 0. 0.]\n",
            " [0. 0. 0. 0. 0. 0. 0. 0. 1. 1. 0. 0. 0. 0. 0. 0. 0. 0. 1. 0. 0. 0. 0. 0.\n",
            "  0. 0. 0. 0.]\n",
            " [0. 0. 0. 0. 0. 0. 0. 0. 0. 1. 1. 1. 0. 0. 0. 0. 0. 1. 1. 0. 0. 0. 0. 0.\n",
            "  0. 0. 0. 0.]\n",
            " [0. 0. 0. 0. 0. 0. 0. 0. 0. 0. 0. 1. 1. 1. 0. 0. 1. 1. 0. 0. 0. 0. 0. 0.\n",
            "  0. 0. 0. 0.]\n",
            " [0. 0. 0. 0. 0. 0. 0. 0. 0. 0. 0. 0. 0. 1. 1. 1. 1. 0. 0. 0. 0. 0. 0. 0.\n",
            "  0. 0. 0. 0.]\n",
            " [0. 0. 0. 0. 0. 0. 0. 0. 0. 0. 0. 0. 0. 0. 0. 0. 0. 0. 0. 0. 0. 0. 0. 0.\n",
            "  0. 0. 0. 0.]\n",
            " [0. 0. 0. 0. 0. 0. 0. 0. 0. 0. 0. 0. 0. 0. 0. 0. 0. 0. 0. 0. 0. 0. 0. 0.\n",
            "  0. 0. 0. 0.]\n",
            " [0. 0. 0. 0. 0. 0. 0. 0. 0. 0. 0. 0. 0. 0. 0. 0. 0. 0. 0. 0. 0. 0. 0. 0.\n",
            "  0. 0. 0. 0.]\n",
            " [0. 0. 0. 0. 0. 0. 0. 0. 0. 0. 0. 0. 0. 0. 0. 0. 0. 0. 0. 0. 0. 0. 0. 0.\n",
            "  0. 0. 0. 0.]\n",
            " [0. 0. 0. 0. 0. 0. 0. 0. 0. 0. 0. 0. 0. 0. 0. 0. 0. 0. 0. 0. 0. 0. 0. 0.\n",
            "  0. 0. 0. 0.]\n",
            " [0. 0. 0. 0. 0. 0. 0. 0. 0. 0. 0. 0. 0. 0. 0. 0. 0. 0. 0. 0. 0. 0. 0. 0.\n",
            "  0. 0. 0. 0.]]\n"
          ]
        }
      ]
    },
    {
      "cell_type": "code",
      "source": [
        "x = x.values.reshape(-1, 28, 28, 1)\n",
        "test = test.values.reshape(-1, 28, 28, 1)\n",
        "i = i.reshape(-1, 28, 28, 1)\n",
        "i1 = i1.reshape(-1, 28, 28, 1)\n",
        "i2 = i2.reshape(-1, 28, 28, 1)\n",
        "i3 = i3.reshape(-1, 28, 28, 1)\n",
        "i4 = i4.reshape(-1, 28, 28, 1)\n",
        "i5 = i5.reshape(-1, 28, 28, 1)\n",
        "i6 = i6.reshape(-1, 28, 28, 1)\n",
        "i7 = i7.reshape(-1, 28, 28, 1)\n",
        "i8 = i8.reshape(-1, 28, 28, 1)\n",
        "i9 = i9.reshape(-1, 28, 28, 1)"
      ],
      "metadata": {
        "id": "cQfEvjakls5j"
      },
      "execution_count": null,
      "outputs": []
    },
    {
      "cell_type": "markdown",
      "source": [
        "Разбиваем правильные ответы на категории"
      ],
      "metadata": {
        "id": "Wzk4MrC-m-4c"
      }
    },
    {
      "cell_type": "code",
      "source": [
        "y = to_categorical(y, 10)"
      ],
      "metadata": {
        "id": "PB5O91S0luOm"
      },
      "execution_count": null,
      "outputs": []
    },
    {
      "cell_type": "markdown",
      "source": [
        "Отделяем данные на валидацию"
      ],
      "metadata": {
        "id": "Pp-2yProp_zX"
      }
    },
    {
      "cell_type": "code",
      "source": [
        "x_train = x[:37800]\n",
        "x_val = x[37800:]\n",
        "y_train = y[:37800]\n",
        "y_val = y[37800:]"
      ],
      "metadata": {
        "id": "m4BaYLfjlvxC"
      },
      "execution_count": null,
      "outputs": []
    },
    {
      "cell_type": "markdown",
      "source": [
        "Строим модель"
      ],
      "metadata": {
        "id": "MiB370RdnZY5"
      }
    },
    {
      "cell_type": "code",
      "source": [
        "\n",
        "model = Sequential()\n",
        "\n",
        "model.add(Conv2D(32, (3, 3), padding='same', input_shape=(28, 28, 1), activation='relu')) #свёрточный слой 1\n",
        "model.add(Conv2D(32, (3, 3), activation='relu', padding='same')) #свёрточный слой 2\n",
        "\n",
        "model.add(MaxPooling2D(pool_size=(2, 2))) #слой подвыборки\n",
        "\n",
        "model.add(Dropout(0.25)) #слой регуляризации отключает нейроны с вероятностью в 25% для предотвращения переобучения\n",
        "\n",
        "model.add(Conv2D(64, (3, 3), padding='same', activation='relu'))\n",
        "model.add(Conv2D(64, (3, 3), activation='relu'))\n",
        "\n",
        "model.add(MaxPooling2D(pool_size=(2, 2)))\n",
        "\n",
        "model.add(Dropout(0.25))\n",
        "\n",
        "model.add(Flatten()) #преобразование из двумерного в одномерный\n",
        "\n",
        "model.add(Dense(512, activation='relu'))\n",
        "model.add(Dropout(0.5))\n",
        "model.add(Dense(10, activation='softmax')) #softmax определяет вероятность появления того или иного класса "
      ],
      "metadata": {
        "id": "BW7gqKrVmEyK"
      },
      "execution_count": null,
      "outputs": []
    },
    {
      "cell_type": "code",
      "source": [
        "model.summary()"
      ],
      "metadata": {
        "colab": {
          "base_uri": "https://localhost:8080/"
        },
        "id": "vAEK9O18nSoI",
        "outputId": "a5cd3fa8-037a-4370-97ef-b180635f5676"
      },
      "execution_count": null,
      "outputs": [
        {
          "output_type": "stream",
          "name": "stdout",
          "text": [
            "Model: \"sequential_9\"\n",
            "_________________________________________________________________\n",
            " Layer (type)                Output Shape              Param #   \n",
            "=================================================================\n",
            " conv2d_36 (Conv2D)          (None, 28, 28, 32)        320       \n",
            "                                                                 \n",
            " conv2d_37 (Conv2D)          (None, 28, 28, 32)        9248      \n",
            "                                                                 \n",
            " max_pooling2d_18 (MaxPoolin  (None, 14, 14, 32)       0         \n",
            " g2D)                                                            \n",
            "                                                                 \n",
            " dropout_27 (Dropout)        (None, 14, 14, 32)        0         \n",
            "                                                                 \n",
            " conv2d_38 (Conv2D)          (None, 14, 14, 64)        18496     \n",
            "                                                                 \n",
            " conv2d_39 (Conv2D)          (None, 12, 12, 64)        36928     \n",
            "                                                                 \n",
            " max_pooling2d_19 (MaxPoolin  (None, 6, 6, 64)         0         \n",
            " g2D)                                                            \n",
            "                                                                 \n",
            " dropout_28 (Dropout)        (None, 6, 6, 64)          0         \n",
            "                                                                 \n",
            " flatten_9 (Flatten)         (None, 2304)              0         \n",
            "                                                                 \n",
            " dense_18 (Dense)            (None, 512)               1180160   \n",
            "                                                                 \n",
            " dropout_29 (Dropout)        (None, 512)               0         \n",
            "                                                                 \n",
            " dense_19 (Dense)            (None, 10)                5130      \n",
            "                                                                 \n",
            "=================================================================\n",
            "Total params: 1,250,282\n",
            "Trainable params: 1,250,282\n",
            "Non-trainable params: 0\n",
            "_________________________________________________________________\n"
          ]
        }
      ]
    },
    {
      "cell_type": "markdown",
      "source": [
        "Компилируем модель"
      ],
      "metadata": {
        "id": "QF78innZoqKZ"
      }
    },
    {
      "cell_type": "code",
      "source": [
        "model.compile(optimizer='SGD', loss='categorical_crossentropy', metrics=['accuracy']) # метрика точность, оптимизатор стахостический градиентный спуск, функция ошибки для определения вероятности класса"
      ],
      "metadata": {
        "id": "TVsiCJ3infXq"
      },
      "execution_count": null,
      "outputs": []
    },
    {
      "cell_type": "markdown",
      "source": [
        "Обучаем модель"
      ],
      "metadata": {
        "id": "t0Yg_3LCotf7"
      }
    },
    {
      "cell_type": "code",
      "source": [
        "checkpoint = ModelCheckpoint('weight.h5', monitor='val_accuracy', save_best_only=True, verbose=1)\n",
        "lrreduction = ReduceLROnPlateau('val_accuracy', 0.5, 3, min_lr=0.00001) #снижение скорости обучения при отсутствии улучшения метрики"
      ],
      "metadata": {
        "id": "ht5_m3XCnhEo"
      },
      "execution_count": null,
      "outputs": []
    },
    {
      "cell_type": "code",
      "source": [
        "model.fit(x_train, y_train, batch_size=10, epochs=25, verbose=1, validation_data=(x_val, y_val), callbacks=[checkpoint, lrreduction])"
      ],
      "metadata": {
        "colab": {
          "base_uri": "https://localhost:8080/"
        },
        "id": "V50Lhaj6ni1u",
        "outputId": "c05d3b10-0aa8-4209-9527-299649701d01"
      },
      "execution_count": null,
      "outputs": [
        {
          "output_type": "stream",
          "name": "stdout",
          "text": [
            "Epoch 1/25\n",
            "3777/3780 [============================>.] - ETA: 0s - loss: 0.4182 - accuracy: 0.8640\n",
            "Epoch 1: val_accuracy improved from -inf to 0.97286, saving model to weight.h5\n",
            "3780/3780 [==============================] - 17s 4ms/step - loss: 0.4183 - accuracy: 0.8640 - val_loss: 0.0887 - val_accuracy: 0.9729 - lr: 0.0100\n",
            "Epoch 2/25\n",
            "3771/3780 [============================>.] - ETA: 0s - loss: 0.1254 - accuracy: 0.9608\n",
            "Epoch 2: val_accuracy improved from 0.97286 to 0.97762, saving model to weight.h5\n",
            "3780/3780 [==============================] - 15s 4ms/step - loss: 0.1253 - accuracy: 0.9609 - val_loss: 0.0612 - val_accuracy: 0.9776 - lr: 0.0100\n",
            "Epoch 3/25\n",
            "3775/3780 [============================>.] - ETA: 0s - loss: 0.0892 - accuracy: 0.9731\n",
            "Epoch 3: val_accuracy improved from 0.97762 to 0.98310, saving model to weight.h5\n",
            "3780/3780 [==============================] - 16s 4ms/step - loss: 0.0892 - accuracy: 0.9731 - val_loss: 0.0480 - val_accuracy: 0.9831 - lr: 0.0100\n",
            "Epoch 4/25\n",
            "3771/3780 [============================>.] - ETA: 0s - loss: 0.0738 - accuracy: 0.9771\n",
            "Epoch 4: val_accuracy improved from 0.98310 to 0.98619, saving model to weight.h5\n",
            "3780/3780 [==============================] - 16s 4ms/step - loss: 0.0737 - accuracy: 0.9771 - val_loss: 0.0377 - val_accuracy: 0.9862 - lr: 0.0100\n",
            "Epoch 5/25\n",
            "3775/3780 [============================>.] - ETA: 0s - loss: 0.0611 - accuracy: 0.9806\n",
            "Epoch 5: val_accuracy did not improve from 0.98619\n",
            "3780/3780 [==============================] - 16s 4ms/step - loss: 0.0612 - accuracy: 0.9805 - val_loss: 0.0425 - val_accuracy: 0.9852 - lr: 0.0100\n",
            "Epoch 6/25\n",
            "3769/3780 [============================>.] - ETA: 0s - loss: 0.0558 - accuracy: 0.9824\n",
            "Epoch 6: val_accuracy improved from 0.98619 to 0.98929, saving model to weight.h5\n",
            "3780/3780 [==============================] - 16s 4ms/step - loss: 0.0561 - accuracy: 0.9824 - val_loss: 0.0347 - val_accuracy: 0.9893 - lr: 0.0100\n",
            "Epoch 7/25\n",
            "3778/3780 [============================>.] - ETA: 0s - loss: 0.0508 - accuracy: 0.9843\n",
            "Epoch 7: val_accuracy did not improve from 0.98929\n",
            "3780/3780 [==============================] - 16s 4ms/step - loss: 0.0508 - accuracy: 0.9843 - val_loss: 0.0286 - val_accuracy: 0.9890 - lr: 0.0100\n",
            "Epoch 8/25\n",
            "3774/3780 [============================>.] - ETA: 0s - loss: 0.0454 - accuracy: 0.9855\n",
            "Epoch 8: val_accuracy did not improve from 0.98929\n",
            "3780/3780 [==============================] - 17s 5ms/step - loss: 0.0455 - accuracy: 0.9855 - val_loss: 0.0400 - val_accuracy: 0.9867 - lr: 0.0100\n",
            "Epoch 9/25\n",
            "3777/3780 [============================>.] - ETA: 0s - loss: 0.0421 - accuracy: 0.9870\n",
            "Epoch 9: val_accuracy improved from 0.98929 to 0.99024, saving model to weight.h5\n",
            "3780/3780 [==============================] - 16s 4ms/step - loss: 0.0421 - accuracy: 0.9870 - val_loss: 0.0290 - val_accuracy: 0.9902 - lr: 0.0100\n",
            "Epoch 10/25\n",
            "3777/3780 [============================>.] - ETA: 0s - loss: 0.0388 - accuracy: 0.9879\n",
            "Epoch 10: val_accuracy did not improve from 0.99024\n",
            "3780/3780 [==============================] - 15s 4ms/step - loss: 0.0389 - accuracy: 0.9879 - val_loss: 0.0289 - val_accuracy: 0.9902 - lr: 0.0100\n",
            "Epoch 11/25\n",
            "3768/3780 [============================>.] - ETA: 0s - loss: 0.0352 - accuracy: 0.9889\n",
            "Epoch 11: val_accuracy improved from 0.99024 to 0.99143, saving model to weight.h5\n",
            "3780/3780 [==============================] - 16s 4ms/step - loss: 0.0352 - accuracy: 0.9889 - val_loss: 0.0270 - val_accuracy: 0.9914 - lr: 0.0100\n",
            "Epoch 12/25\n",
            "3773/3780 [============================>.] - ETA: 0s - loss: 0.0333 - accuracy: 0.9895\n",
            "Epoch 12: val_accuracy did not improve from 0.99143\n",
            "3780/3780 [==============================] - 16s 4ms/step - loss: 0.0332 - accuracy: 0.9896 - val_loss: 0.0249 - val_accuracy: 0.9902 - lr: 0.0100\n",
            "Epoch 13/25\n",
            "3776/3780 [============================>.] - ETA: 0s - loss: 0.0321 - accuracy: 0.9896\n",
            "Epoch 13: val_accuracy improved from 0.99143 to 0.99357, saving model to weight.h5\n",
            "3780/3780 [==============================] - 16s 4ms/step - loss: 0.0322 - accuracy: 0.9896 - val_loss: 0.0217 - val_accuracy: 0.9936 - lr: 0.0100\n",
            "Epoch 14/25\n",
            "3774/3780 [============================>.] - ETA: 0s - loss: 0.0296 - accuracy: 0.9900\n",
            "Epoch 14: val_accuracy did not improve from 0.99357\n",
            "3780/3780 [==============================] - 15s 4ms/step - loss: 0.0296 - accuracy: 0.9901 - val_loss: 0.0287 - val_accuracy: 0.9907 - lr: 0.0100\n",
            "Epoch 15/25\n",
            "3771/3780 [============================>.] - ETA: 0s - loss: 0.0274 - accuracy: 0.9912\n",
            "Epoch 15: val_accuracy did not improve from 0.99357\n",
            "3780/3780 [==============================] - 16s 4ms/step - loss: 0.0274 - accuracy: 0.9912 - val_loss: 0.0225 - val_accuracy: 0.9917 - lr: 0.0100\n",
            "Epoch 16/25\n",
            "3767/3780 [============================>.] - ETA: 0s - loss: 0.0265 - accuracy: 0.9911\n",
            "Epoch 16: val_accuracy did not improve from 0.99357\n",
            "3780/3780 [==============================] - 16s 4ms/step - loss: 0.0264 - accuracy: 0.9911 - val_loss: 0.0213 - val_accuracy: 0.9926 - lr: 0.0100\n",
            "Epoch 17/25\n",
            "3774/3780 [============================>.] - ETA: 0s - loss: 0.0228 - accuracy: 0.9921\n",
            "Epoch 17: val_accuracy did not improve from 0.99357\n",
            "3780/3780 [==============================] - 16s 4ms/step - loss: 0.0228 - accuracy: 0.9921 - val_loss: 0.0202 - val_accuracy: 0.9929 - lr: 0.0050\n",
            "Epoch 18/25\n",
            "3769/3780 [============================>.] - ETA: 0s - loss: 0.0208 - accuracy: 0.9929\n",
            "Epoch 18: val_accuracy did not improve from 0.99357\n",
            "3780/3780 [==============================] - 15s 4ms/step - loss: 0.0210 - accuracy: 0.9929 - val_loss: 0.0205 - val_accuracy: 0.9919 - lr: 0.0050\n",
            "Epoch 19/25\n",
            "3771/3780 [============================>.] - ETA: 0s - loss: 0.0184 - accuracy: 0.9936\n",
            "Epoch 19: val_accuracy did not improve from 0.99357\n",
            "3780/3780 [==============================] - 16s 4ms/step - loss: 0.0183 - accuracy: 0.9936 - val_loss: 0.0224 - val_accuracy: 0.9924 - lr: 0.0050\n",
            "Epoch 20/25\n",
            "3770/3780 [============================>.] - ETA: 0s - loss: 0.0181 - accuracy: 0.9940\n",
            "Epoch 20: val_accuracy did not improve from 0.99357\n",
            "3780/3780 [==============================] - 16s 4ms/step - loss: 0.0182 - accuracy: 0.9940 - val_loss: 0.0211 - val_accuracy: 0.9929 - lr: 0.0025\n",
            "Epoch 21/25\n",
            "3775/3780 [============================>.] - ETA: 0s - loss: 0.0165 - accuracy: 0.9943\n",
            "Epoch 21: val_accuracy did not improve from 0.99357\n",
            "3780/3780 [==============================] - 16s 4ms/step - loss: 0.0164 - accuracy: 0.9943 - val_loss: 0.0202 - val_accuracy: 0.9933 - lr: 0.0025\n",
            "Epoch 22/25\n",
            "3775/3780 [============================>.] - ETA: 0s - loss: 0.0175 - accuracy: 0.9940\n",
            "Epoch 22: val_accuracy did not improve from 0.99357\n",
            "3780/3780 [==============================] - 16s 4ms/step - loss: 0.0175 - accuracy: 0.9940 - val_loss: 0.0205 - val_accuracy: 0.9929 - lr: 0.0025\n",
            "Epoch 23/25\n",
            "3769/3780 [============================>.] - ETA: 0s - loss: 0.0159 - accuracy: 0.9950\n",
            "Epoch 23: val_accuracy improved from 0.99357 to 0.99381, saving model to weight.h5\n",
            "3780/3780 [==============================] - 17s 5ms/step - loss: 0.0158 - accuracy: 0.9950 - val_loss: 0.0203 - val_accuracy: 0.9938 - lr: 0.0012\n",
            "Epoch 24/25\n",
            "3778/3780 [============================>.] - ETA: 0s - loss: 0.0151 - accuracy: 0.9948\n",
            "Epoch 24: val_accuracy did not improve from 0.99381\n",
            "3780/3780 [==============================] - 16s 4ms/step - loss: 0.0151 - accuracy: 0.9948 - val_loss: 0.0213 - val_accuracy: 0.9929 - lr: 0.0012\n",
            "Epoch 25/25\n",
            "3772/3780 [============================>.] - ETA: 0s - loss: 0.0134 - accuracy: 0.9958\n",
            "Epoch 25: val_accuracy did not improve from 0.99381\n",
            "3780/3780 [==============================] - 16s 4ms/step - loss: 0.0134 - accuracy: 0.9958 - val_loss: 0.0199 - val_accuracy: 0.9936 - lr: 0.0012\n"
          ]
        },
        {
          "output_type": "execute_result",
          "data": {
            "text/plain": [
              "<keras.callbacks.History at 0x7f946d94e310>"
            ]
          },
          "metadata": {},
          "execution_count": 28
        }
      ]
    },
    {
      "cell_type": "markdown",
      "source": [
        "Загружаем веса"
      ],
      "metadata": {
        "id": "Vx1LwGeGnxIq"
      }
    },
    {
      "cell_type": "code",
      "source": [
        "model.load_weights('weight.h5')"
      ],
      "metadata": {
        "id": "mwxFS05Uno5p"
      },
      "execution_count": null,
      "outputs": []
    },
    {
      "cell_type": "markdown",
      "source": [
        "Прогнозирует метки значений данных на основе обученной модели."
      ],
      "metadata": {
        "id": "LN6GYzcVnz-J"
      }
    },
    {
      "cell_type": "code",
      "source": [
        "pred = model.predict(i)\n",
        "pred1 = model.predict(i1)\n",
        "pred2 = model.predict(i2)\n",
        "pred3 = model.predict(i3)\n",
        "pred4 = model.predict(i4)\n",
        "pred5 = model.predict(i5)\n",
        "pred6 = model.predict(i6)\n",
        "pred7 = model.predict(i7)\n",
        "pred8 = model.predict(i8)\n",
        "pred9 = model.predict(i9)"
      ],
      "metadata": {
        "id": "SCZ9rnr4nq2Z",
        "colab": {
          "base_uri": "https://localhost:8080/"
        },
        "outputId": "b2264beb-1d19-449c-c06c-29658fc2672c"
      },
      "execution_count": null,
      "outputs": [
        {
          "output_type": "stream",
          "name": "stdout",
          "text": [
            "1/1 [==============================] - 0s 82ms/step\n",
            "1/1 [==============================] - 0s 18ms/step\n",
            "1/1 [==============================] - 0s 14ms/step\n",
            "1/1 [==============================] - 0s 14ms/step\n",
            "1/1 [==============================] - 0s 14ms/step\n",
            "1/1 [==============================] - 0s 20ms/step\n",
            "1/1 [==============================] - 0s 17ms/step\n",
            "1/1 [==============================] - 0s 13ms/step\n",
            "1/1 [==============================] - 0s 17ms/step\n",
            "1/1 [==============================] - 0s 16ms/step\n"
          ]
        }
      ]
    },
    {
      "cell_type": "code",
      "source": [
        "print (pred)\n",
        "\n",
        "pred = np.argmax(pred, axis=1)\n",
        "print(pred)"
      ],
      "metadata": {
        "colab": {
          "base_uri": "https://localhost:8080/"
        },
        "id": "SucLCElId2hH",
        "outputId": "0ae6e00a-76fd-4dfb-89b5-9505f3f3232b"
      },
      "execution_count": null,
      "outputs": [
        {
          "output_type": "stream",
          "name": "stdout",
          "text": [
            "[[8.0292422e-01 1.4519311e-07 2.7184418e-04 2.6107806e-05 8.8570360e-04\n",
            "  6.6312791e-06 2.0921124e-04 2.4252270e-04 6.6027977e-05 1.9536754e-01]]\n",
            "[0]\n"
          ]
        }
      ]
    },
    {
      "cell_type": "code",
      "source": [
        "pred1 = np.argmax(pred1, axis=1)\n",
        "print(pred1)"
      ],
      "metadata": {
        "colab": {
          "base_uri": "https://localhost:8080/"
        },
        "id": "LmhZEIJ9Dsx3",
        "outputId": "5316f9ce-cf6a-4ab2-c2ff-91594a79bb7e"
      },
      "execution_count": null,
      "outputs": [
        {
          "output_type": "stream",
          "name": "stdout",
          "text": [
            "[1]\n"
          ]
        }
      ]
    },
    {
      "cell_type": "code",
      "source": [
        "pred2 = np.argmax(pred2, axis=1)\n",
        "print(pred2)"
      ],
      "metadata": {
        "colab": {
          "base_uri": "https://localhost:8080/"
        },
        "id": "AcGjg6cvDskt",
        "outputId": "c1ee4d00-8bd1-499c-8726-15972311e022"
      },
      "execution_count": null,
      "outputs": [
        {
          "output_type": "stream",
          "name": "stdout",
          "text": [
            "[2]\n"
          ]
        }
      ]
    },
    {
      "cell_type": "code",
      "source": [
        "pred3 = np.argmax(pred3, axis=1)\n",
        "print(pred3)"
      ],
      "metadata": {
        "colab": {
          "base_uri": "https://localhost:8080/"
        },
        "id": "1MKp007TDsba",
        "outputId": "5920778f-f1c6-4f14-95c9-e94e9809d161"
      },
      "execution_count": null,
      "outputs": [
        {
          "output_type": "stream",
          "name": "stdout",
          "text": [
            "[3]\n"
          ]
        }
      ]
    },
    {
      "cell_type": "code",
      "source": [
        "pred4 = np.argmax(pred4, axis=1)\n",
        "print(pred4)"
      ],
      "metadata": {
        "colab": {
          "base_uri": "https://localhost:8080/"
        },
        "id": "6nOl0qcUDsUJ",
        "outputId": "0c8e4b3c-2e2e-4cdd-bde6-6c9288a132e1"
      },
      "execution_count": null,
      "outputs": [
        {
          "output_type": "stream",
          "name": "stdout",
          "text": [
            "[4]\n"
          ]
        }
      ]
    },
    {
      "cell_type": "code",
      "source": [
        "pred5 = np.argmax(pred5, axis=1)\n",
        "print(pred5)"
      ],
      "metadata": {
        "colab": {
          "base_uri": "https://localhost:8080/"
        },
        "id": "NPOYC2LRDsNL",
        "outputId": "23c2812b-b2b8-4a96-b884-2f05a175e2a1"
      },
      "execution_count": null,
      "outputs": [
        {
          "output_type": "stream",
          "name": "stdout",
          "text": [
            "[5]\n"
          ]
        }
      ]
    },
    {
      "cell_type": "code",
      "source": [
        "pred6 = np.argmax(pred6, axis=1)\n",
        "print(pred6)"
      ],
      "metadata": {
        "colab": {
          "base_uri": "https://localhost:8080/"
        },
        "id": "nrIPvfnIDsGU",
        "outputId": "4bf3f6d1-5e3d-4967-a493-75f424267ee6"
      },
      "execution_count": null,
      "outputs": [
        {
          "output_type": "stream",
          "name": "stdout",
          "text": [
            "[6]\n"
          ]
        }
      ]
    },
    {
      "cell_type": "code",
      "source": [
        "pred7 = np.argmax(pred7, axis=1)\n",
        "print(pred7)"
      ],
      "metadata": {
        "colab": {
          "base_uri": "https://localhost:8080/"
        },
        "id": "rXkWAWeZDr_D",
        "outputId": "d734458b-6047-4980-e217-cff3fb4fd326"
      },
      "execution_count": null,
      "outputs": [
        {
          "output_type": "stream",
          "name": "stdout",
          "text": [
            "[7]\n"
          ]
        }
      ]
    },
    {
      "cell_type": "code",
      "source": [
        "pred8 = np.argmax(pred8, axis=1)\n",
        "print(pred8)"
      ],
      "metadata": {
        "colab": {
          "base_uri": "https://localhost:8080/"
        },
        "id": "vom7Pg9rDr2z",
        "outputId": "48d19784-8242-4097-f619-392c1ecdccb5"
      },
      "execution_count": null,
      "outputs": [
        {
          "output_type": "stream",
          "name": "stdout",
          "text": [
            "[8]\n"
          ]
        }
      ]
    },
    {
      "cell_type": "code",
      "source": [
        "pred9 = np.argmax(pred9, axis=1)\n",
        "print(pred9)"
      ],
      "metadata": {
        "colab": {
          "base_uri": "https://localhost:8080/"
        },
        "id": "dlglnjEhDrwn",
        "outputId": "77222e85-6f97-4a54-87e5-9cb1655939c6"
      },
      "execution_count": null,
      "outputs": [
        {
          "output_type": "stream",
          "name": "stdout",
          "text": [
            "[9]\n"
          ]
        }
      ]
    },
    {
      "cell_type": "markdown",
      "source": [
        "Создаём представление"
      ],
      "metadata": {
        "id": "KrVpR47poeHu"
      }
    },
    {
      "cell_type": "code",
      "source": [
        "pred = np.argmax(pred, axis=1)\n",
        "pred = pd.Series(pred, name='Label')\n",
        "submission = pd.concat([pd.Series(range(1,28001), name='ImageId'), pred], axis=1)\n",
        "submission.to_csv('weight.csv', index=False)"
      ],
      "metadata": {
        "id": "-thnwcdansat"
      },
      "execution_count": null,
      "outputs": []
    },
    {
      "cell_type": "markdown",
      "source": [
        "# Оцениваем качество обучения модели на тестовых данных"
      ],
      "metadata": {
        "id": "GjNwLR-5n_WF"
      }
    },
    {
      "cell_type": "code",
      "source": [
        "\n",
        "scores = model.evaluate(x, y, verbose=0)\n",
        "print(\"Точность работы на тестовых данных: %.2f%%\" % (scores[1]*100))"
      ],
      "metadata": {
        "id": "TwB7vCFrn8vk",
        "colab": {
          "base_uri": "https://localhost:8080/"
        },
        "outputId": "d997c814-0bba-43b4-cee1-75260c04e615"
      },
      "execution_count": null,
      "outputs": [
        {
          "output_type": "stream",
          "name": "stdout",
          "text": [
            "Точность работы на тестовых данных: 99.84%\n"
          ]
        }
      ]
    }
  ]
}